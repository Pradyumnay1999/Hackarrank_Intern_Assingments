{
 "cells": [
  {
   "cell_type": "code",
   "execution_count": 6,
   "id": "360b11b9",
   "metadata": {},
   "outputs": [],
   "source": [
    "import re"
   ]
  },
  {
   "cell_type": "markdown",
   "id": "95cbf9a1",
   "metadata": {},
   "source": [
    "### Q.1 `Detect Floating Point Number`"
   ]
  },
  {
   "cell_type": "code",
   "execution_count": 1,
   "id": "b5123d7a",
   "metadata": {},
   "outputs": [
    {
     "name": "stdout",
     "output_type": "stream",
     "text": [
      "4\n",
      "4.0O0\n",
      "False\n",
      "-1.00\n",
      "True\n",
      "+4.54\n",
      "True\n",
      "SomeRandomStuff\n",
      "False\n"
     ]
    }
   ],
   "source": [
    "\n",
    "for _ in range(int(input())):\n",
    "    print(re.search(r'^([-\\+])?\\d*\\.\\d+$', input()) is not None)"
   ]
  },
  {
   "cell_type": "markdown",
   "id": "ae6597ce",
   "metadata": {},
   "source": [
    "### Q.2 `Re.split()`"
   ]
  },
  {
   "cell_type": "code",
   "execution_count": 3,
   "id": "c051253b",
   "metadata": {},
   "outputs": [
    {
     "name": "stdout",
     "output_type": "stream",
     "text": [
      "100,000,000.000\n",
      "100\n",
      "000\n",
      "000\n",
      "000\n"
     ]
    }
   ],
   "source": [
    "s = input()\n",
    "for t in re.split(r\",|\\.\", s):\n",
    "    if t != '': print(t)"
   ]
  },
  {
   "cell_type": "markdown",
   "id": "9cad29c1",
   "metadata": {},
   "source": [
    "### Q.3 `Group(), Groups() & Groupdict()`"
   ]
  },
  {
   "cell_type": "code",
   "execution_count": 4,
   "id": "c602ddb0",
   "metadata": {},
   "outputs": [
    {
     "name": "stdout",
     "output_type": "stream",
     "text": [
      "..12345678910111213141516171820212223\n",
      "1\n"
     ]
    }
   ],
   "source": [
    "m = re.findall(r\"([A-Za-z0-9])\\1+\",input())\n",
    "if m:\n",
    "    print(m[0])\n",
    "else:\n",
    "    print(-1)"
   ]
  },
  {
   "cell_type": "markdown",
   "id": "831b5919",
   "metadata": {},
   "source": [
    "### Q.4 `Re.findall() & Re.finditer()`"
   ]
  },
  {
   "cell_type": "code",
   "execution_count": 5,
   "id": "181dec14",
   "metadata": {},
   "outputs": [
    {
     "name": "stdout",
     "output_type": "stream",
     "text": [
      "rabcdeefgyYhFjkIoomnpOeorteeeeet\n",
      "ee\n",
      "Ioo\n",
      "Oeo\n",
      "eeeee\n"
     ]
    }
   ],
   "source": [
    "v = \"aeiou\"\n",
    "c = \"qwrtypsdfghjklzxcvbnm\"\n",
    "m = re.findall(r\"(?<=[%s])([%s]{2,})[%s]\" % (c, v, c), input(), flags = re.I)\n",
    "print('\\n'.join(m or ['-1']))"
   ]
  },
  {
   "cell_type": "markdown",
   "id": "fb4aabdb",
   "metadata": {},
   "source": [
    "### Q.5 `Re.start() & Re.end()`"
   ]
  },
  {
   "cell_type": "code",
   "execution_count": 7,
   "id": "37a3c633",
   "metadata": {},
   "outputs": [
    {
     "name": "stdout",
     "output_type": "stream",
     "text": [
      "aaadaa\n",
      "aa\n",
      "(0, 1)\n",
      "(1, 2)\n",
      "(4, 5)\n"
     ]
    }
   ],
   "source": [
    "S = input()\n",
    "k = input()\n",
    "\n",
    "pattern = re.compile(k)\n",
    "r = pattern.search(S)\n",
    "if not r: print(\"(-1, -1)\")\n",
    "while r:\n",
    "    print(\"({0}, {1})\".format(r.start(), r.end() - 1))\n",
    "    r = pattern.search(S,r.start() + 1)"
   ]
  },
  {
   "cell_type": "markdown",
   "id": "0acd7cdb",
   "metadata": {},
   "source": [
    "###  Q.6 `Validating Roman Numerals`"
   ]
  },
  {
   "cell_type": "code",
   "execution_count": 1,
   "id": "fe528800",
   "metadata": {},
   "outputs": [],
   "source": [
    "thousand = 'M{0,3}'\n",
    "hundred = '(C[MD]|D?C{0,3})'\n",
    "ten = '(X[CL]|L?X{0,3})'\n",
    "digit = '(I[VX]|V?I{0,3})'\n",
    "regex_pattern = r\"%s%s%s%s$\" % (thousand, hundred, ten, digit)   "
   ]
  },
  {
   "cell_type": "markdown",
   "id": "33728bda",
   "metadata": {},
   "source": [
    "### Q.7 `Validating phone numbers`"
   ]
  },
  {
   "cell_type": "code",
   "execution_count": 3,
   "id": "b477e0c8",
   "metadata": {},
   "outputs": [
    {
     "name": "stdout",
     "output_type": "stream",
     "text": [
      "2\n",
      "9587456281\n",
      "YES\n",
      "1252478965\n",
      "NO\n"
     ]
    }
   ],
   "source": [
    "for _ in range(int(input())):\n",
    "    if re.match(r'[789]\\d{9}$',input()):   \n",
    "        print('YES')  \n",
    "    else:  \n",
    "        print('NO')"
   ]
  },
  {
   "cell_type": "markdown",
   "id": "63d02e2a",
   "metadata": {},
   "source": [
    "### Q.8 `Validating and Parsing Email Addresses`"
   ]
  },
  {
   "cell_type": "code",
   "execution_count": 4,
   "id": "e46ec0cf",
   "metadata": {},
   "outputs": [
    {
     "name": "stdout",
     "output_type": "stream",
     "text": [
      "2\n",
      "DEXTER <dexter@hotmail.com>\n",
      "DEXTER <dexter@hotmail.com>\n",
      "VIRUS <virus!@variable.:p>\n"
     ]
    }
   ],
   "source": [
    "n = int(input())\n",
    "for _ in range(n):\n",
    "    x, y = input().split(' ')\n",
    "    m = re.match(r'<[A-Za-z](\\w|-|\\.|_)+@[A-Za-z]+\\.[A-Za-z]{1,3}>', y)\n",
    "    if m:\n",
    "        print(x,y)"
   ]
  },
  {
   "cell_type": "markdown",
   "id": "04dbcbf8",
   "metadata": {},
   "source": [
    "### Q.9  `HTML Parser - Part 1`"
   ]
  },
  {
   "cell_type": "code",
   "execution_count": 1,
   "id": "7e828eb8",
   "metadata": {},
   "outputs": [
    {
     "name": "stdout",
     "output_type": "stream",
     "text": [
      "2\n",
      "<html><head><title>HTML Parser - I</title></head>\n",
      "<body data-modal-target class='1'><h1>HackerRank</h1><br /></body></html>\n",
      "Start : html\n",
      "Start : head\n",
      "Start : title\n",
      "End   : title\n",
      "End   : head\n",
      "Start : body\n",
      "-> data-modal-target > None\n",
      "-> class > 1\n",
      "Start : h1\n",
      "End   : h1\n",
      "Empty : br\n",
      "End   : body\n",
      "End   : html\n"
     ]
    }
   ],
   "source": [
    "from html.parser import HTMLParser\n",
    "\n",
    "def show(attrs):\n",
    "    for attr in attrs:\n",
    "            print(\"-> {0} > {1}\".format(attr[0], attr[1]))\n",
    "            \n",
    "class MyHTMLParser(HTMLParser):\n",
    "    def handle_starttag(self, tag, attrs):\n",
    "        print(f\"Start : {tag}\")\n",
    "        show(attrs)\n",
    "            \n",
    "    def handle_endtag(self, tag):\n",
    "        print(\"End   : \" + tag)\n",
    "\n",
    "    def handle_startendtag(self, tag, attrs):\n",
    "        print(\"Empty :\", tag)\n",
    "        show(attrs)\n",
    "        \n",
    "parser = MyHTMLParser()\n",
    "parser.feed(''.join([input() for _ in range(int(input()))]))"
   ]
  },
  {
   "cell_type": "markdown",
   "id": "e9ae0e79",
   "metadata": {},
   "source": [
    "### Q.10  `HTML Parser - Part 2`"
   ]
  },
  {
   "cell_type": "code",
   "execution_count": 2,
   "id": "e745a1a4",
   "metadata": {},
   "outputs": [
    {
     "name": "stdout",
     "output_type": "stream",
     "text": [
      "4\n",
      "<!--[if IE 9]>IE9-specific content\n",
      "<![endif]-->\n",
      "<div> Welcome to HackerRank</div>\n",
      "<!--[if IE 9]>IE9-specific content<![endif]-->\n",
      ">>> Multi-line Comment\n",
      "[if IE 9]>IE9-specific content\n",
      "<![endif]\n",
      ">>> Data\n",
      " Welcome to HackerRank\n",
      ">>> Single-line Comment\n",
      "[if IE 9]>IE9-specific content<![endif]\n"
     ]
    }
   ],
   "source": [
    "\n",
    "class MyHTMLParser(HTMLParser):\n",
    "    def handle_comment(self, data):\n",
    "        data = str(data).split('\\n')\n",
    "        if len(data)>1:\n",
    "            print('>>> Multi-line Comment', *data, sep='\\n')\n",
    "        else:\n",
    "            print('>>> Single-line Comment', data[0], sep='\\n')            \n",
    "    def handle_data(self, data):\n",
    "        data = str(data).replace('\\n', '')\n",
    "        if len(data)>0:\n",
    "            print('>>> Data', data, sep='\\n')\n",
    "\n",
    "html = \"\"       \n",
    "for _ in range(int(input())):\n",
    "    html += input().rstrip()\n",
    "    html += '\\n'\n",
    "    \n",
    "parser = MyHTMLParser()\n",
    "parser.feed(html)\n",
    "parser.close()"
   ]
  },
  {
   "cell_type": "markdown",
   "id": "1d71d80e",
   "metadata": {},
   "source": [
    "### Q.11  `from html.parser import HTMLParser`"
   ]
  },
  {
   "cell_type": "code",
   "execution_count": 3,
   "id": "a06865f7",
   "metadata": {},
   "outputs": [
    {
     "name": "stdout",
     "output_type": "stream",
     "text": [
      "9\n",
      "<head>\n",
      "<title>HTML</title>\n",
      "</head>\n",
      "<object type=\"application/x-flash\" \n",
      "data=\"your-file.swf\"\n",
      "width=\"0\" height=\"0\">\n",
      "<!-- <param name=\"movie\" value=\"your-file.swf\" /> -->\n",
      "<param name=\"quality\" value=\"high\"/>\n",
      "</object>\n",
      "head\n",
      "title\n",
      "object\n",
      "-> type > application/x-flash\n",
      "-> data > your-file.swf\n",
      "-> width > 0\n",
      "-> height > 0\n",
      "param\n",
      "-> name > quality\n",
      "-> value > high\n"
     ]
    }
   ],
   "source": [
    "\n",
    "class MyHTMLParser(HTMLParser):\n",
    "    def handle_starttag(self, tag, attrs):\n",
    "        print(tag)\n",
    "        [print('-> {} > {}'.format(*attr)) for attr in attrs]\n",
    "        \n",
    "html = '\\n'.join([input() for _ in range(int(input()))])\n",
    "parser = MyHTMLParser()\n",
    "parser.feed(html)\n",
    "parser.close()"
   ]
  },
  {
   "cell_type": "markdown",
   "id": "7e34387d",
   "metadata": {},
   "source": [
    "### Q.12 `Validating UID`"
   ]
  },
  {
   "cell_type": "code",
   "execution_count": 4,
   "id": "73f594c3",
   "metadata": {},
   "outputs": [
    {
     "name": "stdout",
     "output_type": "stream",
     "text": [
      "2\n",
      "B1CD102354\n",
      "Invalid\n",
      "B1CDEF2354\n",
      "Invalid\n"
     ]
    }
   ],
   "source": [
    "for _ in range(int(input())):\n",
    "    u = ''.join(sorted(input()))\n",
    "    try:\n",
    "        assert re.search(r'[A-Z]{2}', u)\n",
    "        assert re.search(r'\\d\\d\\d', u)\n",
    "        assert not re.search(r'[^a-zA-Z0-9]', u)\n",
    "        assert not re.search(r'(.)\\1', u)\n",
    "        assert len(u) == 10\n",
    "    except:\n",
    "        print('Invalid')\n",
    "    else:\n",
    "        print('Valid')"
   ]
  },
  {
   "cell_type": "markdown",
   "id": "7a47994f",
   "metadata": {},
   "source": [
    "### Q.13  `Validating Credit Card Numbers`"
   ]
  },
  {
   "cell_type": "code",
   "execution_count": 7,
   "id": "69566138",
   "metadata": {},
   "outputs": [
    {
     "name": "stdout",
     "output_type": "stream",
     "text": [
      "6\n",
      "4123456789123456\n",
      "Valid\n",
      "5123-4567-8912-3456\n",
      "Valid\n",
      "61234-567-8912-3456\n",
      "Invalid\n",
      "4123356789123456\n",
      "Valid\n",
      "5133-3367-8912-3456\n",
      "Invalid\n",
      "5123 - 3567 - 8912 - 3456\n",
      "Invalid\n"
     ]
    }
   ],
   "source": [
    "TESTER = re.compile(\n",
    "    r\"^\"\n",
    "    r\"(?!.*(\\d)(-?\\1){3})\"\n",
    "    r\"[456]\"\n",
    "    r\"\\d{3}\"\n",
    "    r\"(?:-?\\d{4}){3}\"\n",
    "    r\"$\")\n",
    "for _ in range(int(input().strip())):\n",
    "    print(\"Valid\" if TESTER.search(input().strip()) else \"Invalid\")"
   ]
  },
  {
   "cell_type": "markdown",
   "id": "b756cd2f",
   "metadata": {},
   "source": [
    "### Q.14  `Validating Postal Codes`"
   ]
  },
  {
   "cell_type": "code",
   "execution_count": 8,
   "id": "cdaf86e6",
   "metadata": {},
   "outputs": [
    {
     "name": "stdout",
     "output_type": "stream",
     "text": [
      "110000\n",
      "False\n"
     ]
    }
   ],
   "source": [
    "def inn(p):\n",
    "    return 100000 <= int(p) <= 999999\n",
    "\n",
    "def imm(p):\n",
    "    l = []\n",
    "    for i in range(len(p) - 2):\n",
    "        l.append(p[i] != p[i + 2])\n",
    "\n",
    "    return all(l)\n",
    "\n",
    "def is_valid(p):\n",
    "    return (p.isdigit() and inn(p)) and (p != \"110000\")# and imm(p)\n",
    "\n",
    "def main():\n",
    "    p = input()\n",
    "    print(is_valid(p))\n",
    "    \n",
    "    \n",
    "main()"
   ]
  }
 ],
 "metadata": {
  "kernelspec": {
   "display_name": "Python 3 (ipykernel)",
   "language": "python",
   "name": "python3"
  },
  "language_info": {
   "codemirror_mode": {
    "name": "ipython",
    "version": 3
   },
   "file_extension": ".py",
   "mimetype": "text/x-python",
   "name": "python",
   "nbconvert_exporter": "python",
   "pygments_lexer": "ipython3",
   "version": "3.9.12"
  }
 },
 "nbformat": 4,
 "nbformat_minor": 5
}

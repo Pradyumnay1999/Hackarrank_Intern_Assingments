{
 "cells": [
  {
   "cell_type": "markdown",
   "id": "e822c52c",
   "metadata": {},
   "source": [
    "### Q.1 `Polar Coordinates`"
   ]
  },
  {
   "cell_type": "code",
   "execution_count": 1,
   "id": "5cdd068a",
   "metadata": {},
   "outputs": [
    {
     "name": "stdout",
     "output_type": "stream",
     "text": [
      "1+2j\n",
      "2.23606797749979\n",
      "1.1071487177940904\n"
     ]
    }
   ],
   "source": [
    "import cmath\n",
    "print(*cmath.polar(complex(input())), sep='\\n')"
   ]
  },
  {
   "cell_type": "markdown",
   "id": "f111394b",
   "metadata": {},
   "source": [
    "### Q.2 `Find Angle MBC`"
   ]
  },
  {
   "cell_type": "code",
   "execution_count": 2,
   "id": "4e772249",
   "metadata": {},
   "outputs": [
    {
     "name": "stdout",
     "output_type": "stream",
     "text": [
      "10\n",
      "10\n",
      "45°\n"
     ]
    }
   ],
   "source": [
    "from math import degrees, atan2\n",
    "\n",
    "AB = float(input())\n",
    "BC = float(input())\n",
    "\n",
    "MBC = round(degrees(atan2(AB, BC)))\n",
    "print((str(MBC)), chr(176), sep='')"
   ]
  },
  {
   "cell_type": "markdown",
   "id": "b02b83f7",
   "metadata": {},
   "source": [
    "### Q.3 `Triangle Quest 2`"
   ]
  },
  {
   "cell_type": "code",
   "execution_count": 5,
   "id": "3120dcda",
   "metadata": {},
   "outputs": [
    {
     "name": "stdout",
     "output_type": "stream",
     "text": [
      "5\n",
      "1\n",
      "121\n",
      "12321\n",
      "1234321\n",
      "123454321\n"
     ]
    }
   ],
   "source": [
    "for i in range(1,int(input())+1):\n",
    "    print(((10**i - 1)//9)**2)"
   ]
  },
  {
   "cell_type": "markdown",
   "id": "4a50f573",
   "metadata": {},
   "source": [
    "### Q.4 `Mod Divmod`"
   ]
  },
  {
   "cell_type": "code",
   "execution_count": 6,
   "id": "8202f215",
   "metadata": {},
   "outputs": [
    {
     "name": "stdout",
     "output_type": "stream",
     "text": [
      "177\n",
      "10\n",
      "17\n",
      "7\n",
      "(17, 7)\n"
     ]
    }
   ],
   "source": [
    "print('{0}\\n{1}\\n({0}, {1})'.format(*divmod(int(input()), int(input()))))"
   ]
  },
  {
   "cell_type": "markdown",
   "id": "8bf26ec0",
   "metadata": {},
   "source": [
    "### Q.5 `Power - Mod Power`"
   ]
  },
  {
   "cell_type": "code",
   "execution_count": 7,
   "id": "087b0c95",
   "metadata": {},
   "outputs": [
    {
     "name": "stdout",
     "output_type": "stream",
     "text": [
      "3\n",
      "4\n",
      "5\n",
      "81\n",
      "1\n"
     ]
    }
   ],
   "source": [
    "a,b,m = [int(input()) for _ in '123']\n",
    "print(pow(a,b),pow(a,b,m),sep='\\n')"
   ]
  },
  {
   "cell_type": "markdown",
   "id": "f2c1912b",
   "metadata": {},
   "source": [
    "### Q.6 `Integers Come In All Sizes`"
   ]
  },
  {
   "cell_type": "code",
   "execution_count": 8,
   "id": "d55dc88a",
   "metadata": {},
   "outputs": [
    {
     "name": "stdout",
     "output_type": "stream",
     "text": [
      "9\n",
      "29\n",
      "7\n",
      "27\n",
      "4710194409608608369201743232\n"
     ]
    }
   ],
   "source": [
    "a,b,c,d = int(input()),int(input()),int(input()),int(input())\n",
    "\n",
    "print(a**b + c**d)"
   ]
  },
  {
   "cell_type": "markdown",
   "id": "374149ca",
   "metadata": {},
   "source": [
    "### Q.7 `Triangle Quest`"
   ]
  },
  {
   "cell_type": "code",
   "execution_count": 10,
   "id": "6bc709ef",
   "metadata": {},
   "outputs": [
    {
     "name": "stdout",
     "output_type": "stream",
     "text": [
      "5\n",
      "1\n",
      "22\n",
      "333\n",
      "4444\n"
     ]
    }
   ],
   "source": [
    "for i in range(1,int(input())): \n",
    "    print(i*round(10**(i)*(1/9)))"
   ]
  },
  {
   "cell_type": "code",
   "execution_count": null,
   "id": "983136b1",
   "metadata": {},
   "outputs": [],
   "source": []
  }
 ],
 "metadata": {
  "kernelspec": {
   "display_name": "Python 3 (ipykernel)",
   "language": "python",
   "name": "python3"
  },
  "language_info": {
   "codemirror_mode": {
    "name": "ipython",
    "version": 3
   },
   "file_extension": ".py",
   "mimetype": "text/x-python",
   "name": "python",
   "nbconvert_exporter": "python",
   "pygments_lexer": "ipython3",
   "version": "3.9.12"
  }
 },
 "nbformat": 4,
 "nbformat_minor": 5
}

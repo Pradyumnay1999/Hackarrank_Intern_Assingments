{
 "cells": [
  {
   "cell_type": "markdown",
   "id": "ef0c0055",
   "metadata": {},
   "source": [
    "###  Q.1  `Arithmetic Operators`"
   ]
  },
  {
   "cell_type": "code",
   "execution_count": 18,
   "id": "15d31108",
   "metadata": {},
   "outputs": [
    {
     "name": "stdout",
     "output_type": "stream",
     "text": [
      "3\n",
      "2\n",
      "5\n",
      "1\n",
      "6\n"
     ]
    }
   ],
   "source": [
    "a = int(input())\n",
    "b = int(input())\n",
    "print(a+b)\n",
    "print(a-b)\n",
    "print(a*b)"
   ]
  },
  {
   "cell_type": "markdown",
   "id": "964995f4",
   "metadata": {},
   "source": [
    "### Q.2 `Say \"Hello, World!\" With Python`"
   ]
  },
  {
   "cell_type": "code",
   "execution_count": 1,
   "id": "e6b06f10",
   "metadata": {},
   "outputs": [
    {
     "name": "stdout",
     "output_type": "stream",
     "text": [
      "Hello, World!\n"
     ]
    }
   ],
   "source": [
    "print(\"Hello, World!\")"
   ]
  },
  {
   "cell_type": "markdown",
   "id": "6a543331",
   "metadata": {},
   "source": [
    "###  Q.3  `Python If-Else`"
   ]
  },
  {
   "cell_type": "code",
   "execution_count": 3,
   "id": "97984803",
   "metadata": {},
   "outputs": [
    {
     "name": "stdout",
     "output_type": "stream",
     "text": [
      "3\n",
      "Weird\n"
     ]
    }
   ],
   "source": [
    "import math\n",
    "import os\n",
    "import random\n",
    "import re\n",
    "import sys\n",
    "\n",
    "\n",
    "\n",
    "if __name__ == '__main__':\n",
    "    n = int(input().strip())\n",
    "if n%2 !=0:\n",
    "    print('Weird')\n",
    "    \n",
    "else:\n",
    "    if n>=2 and n<=5:\n",
    "        print('Not Weird')\n",
    "    elif n>=6 and n<=20:\n",
    "        print('Weird')    \n",
    "    else:\n",
    "        print('Not Weird')"
   ]
  },
  {
   "cell_type": "code",
   "execution_count": 4,
   "id": "588cbb0a",
   "metadata": {},
   "outputs": [
    {
     "name": "stdout",
     "output_type": "stream",
     "text": [
      "24\n",
      "Not Weird\n"
     ]
    }
   ],
   "source": [
    "if __name__ == '__main__':\n",
    "    n = int(input().strip())\n",
    "if n%2 !=0:\n",
    "    print('Weird')\n",
    "    \n",
    "else:\n",
    "    if n>=2 and n<=5:\n",
    "        print('Not Weird')\n",
    "    elif n>=6 and n<=20:\n",
    "        print('Weird')    \n",
    "    else:\n",
    "        print('Not Weird')"
   ]
  },
  {
   "cell_type": "markdown",
   "id": "05b95c51",
   "metadata": {},
   "source": [
    "### Q.4 `Python: Division`"
   ]
  },
  {
   "cell_type": "code",
   "execution_count": 10,
   "id": "17f0f37f",
   "metadata": {},
   "outputs": [
    {
     "name": "stdout",
     "output_type": "stream",
     "text": [
      "4\n",
      "3\n",
      "1\n",
      "1.3333333333333333\n"
     ]
    }
   ],
   "source": [
    "a = int(input())\n",
    "b = int(input())\n",
    "print(a//b)\n",
    "print(a/b)"
   ]
  },
  {
   "cell_type": "markdown",
   "id": "89e88cde",
   "metadata": {},
   "source": [
    "### Q.5  `Loops`"
   ]
  },
  {
   "cell_type": "code",
   "execution_count": 11,
   "id": "b28b7be1",
   "metadata": {},
   "outputs": [
    {
     "name": "stdout",
     "output_type": "stream",
     "text": [
      "5\n",
      "0\n",
      "1\n",
      "4\n",
      "9\n",
      "16\n"
     ]
    }
   ],
   "source": [
    "n = int(input())\n",
    "for i in range(0,n):\n",
    "    print(i**2)"
   ]
  },
  {
   "cell_type": "markdown",
   "id": "46ecae91",
   "metadata": {},
   "source": [
    "### Q.6  `Write a function`"
   ]
  },
  {
   "cell_type": "code",
   "execution_count": 16,
   "id": "30b1e581",
   "metadata": {},
   "outputs": [
    {
     "name": "stdout",
     "output_type": "stream",
     "text": [
      "1990\n"
     ]
    }
   ],
   "source": [
    "def is_leap(year):\n",
    "    leap = False\n",
    "    if(year % 400 == 0):\n",
    "        leap = True\n",
    "    elif(year % 4 == 0 and year % 100 != 0):\n",
    "        leap = True\n",
    "    return leap\n",
    "\n",
    "year = int(input())"
   ]
  },
  {
   "cell_type": "markdown",
   "id": "a891f403",
   "metadata": {},
   "source": [
    "### Q.7  `Print Function`"
   ]
  },
  {
   "cell_type": "code",
   "execution_count": 17,
   "id": "904b85e6",
   "metadata": {},
   "outputs": [
    {
     "name": "stdout",
     "output_type": "stream",
     "text": [
      "3\n",
      "123"
     ]
    }
   ],
   "source": [
    "n = int(input())\n",
    "for i in range (1, n+1):\n",
    "    print(i,end='')"
   ]
  }
 ],
 "metadata": {
  "kernelspec": {
   "display_name": "Python 3 (ipykernel)",
   "language": "python",
   "name": "python3"
  },
  "language_info": {
   "codemirror_mode": {
    "name": "ipython",
    "version": 3
   },
   "file_extension": ".py",
   "mimetype": "text/x-python",
   "name": "python",
   "nbconvert_exporter": "python",
   "pygments_lexer": "ipython3",
   "version": "3.9.12"
  }
 },
 "nbformat": 4,
 "nbformat_minor": 5
}

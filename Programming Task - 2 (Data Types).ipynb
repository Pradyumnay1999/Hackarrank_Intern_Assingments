{
 "cells": [
  {
   "cell_type": "markdown",
   "id": "a968d32b",
   "metadata": {},
   "source": [
    "### Q.1  `List Comprehensions`"
   ]
  },
  {
   "cell_type": "code",
   "execution_count": 1,
   "id": "48ec3466",
   "metadata": {},
   "outputs": [
    {
     "name": "stdout",
     "output_type": "stream",
     "text": [
      "1\n",
      "1\n",
      "1\n",
      "2\n",
      "[[0, 0, 0], [0, 0, 1], [0, 1, 0], [1, 0, 0], [1, 1, 1]]\n"
     ]
    }
   ],
   "source": [
    "x = int(input())\n",
    "y = int(input())\n",
    "z = int(input())\n",
    "n = int(input())\n",
    "    \n",
    "print(list([i,j,k] for i in range(x+1) for j in range(y+1) for k in range(z+1)  if i+j+k !=n))"
   ]
  },
  {
   "cell_type": "code",
   "execution_count": 2,
   "id": "a264eacd",
   "metadata": {},
   "outputs": [
    {
     "name": "stdout",
     "output_type": "stream",
     "text": [
      "2\n",
      "2\n",
      "2\n",
      "2\n",
      "[[0, 0, 0], [0, 0, 1], [0, 1, 0], [0, 1, 2], [0, 2, 1], [0, 2, 2], [1, 0, 0], [1, 0, 2], [1, 1, 1], [1, 1, 2], [1, 2, 0], [1, 2, 1], [1, 2, 2], [2, 0, 1], [2, 0, 2], [2, 1, 0], [2, 1, 1], [2, 1, 2], [2, 2, 0], [2, 2, 1], [2, 2, 2]]\n"
     ]
    }
   ],
   "source": [
    "x = int(input())\n",
    "y = int(input())\n",
    "z = int(input())\n",
    "n = int(input())\n",
    "    \n",
    "print(list([i,j,k] for i in range(x+1) for j in range(y+1) for k in range(z+1)  if i+j+k !=n))"
   ]
  },
  {
   "cell_type": "markdown",
   "id": "a6719e4f",
   "metadata": {},
   "source": [
    "### Q.2 `Find the Runner-Up Score!`"
   ]
  },
  {
   "cell_type": "code",
   "execution_count": 5,
   "id": "483fa762",
   "metadata": {},
   "outputs": [
    {
     "name": "stdout",
     "output_type": "stream",
     "text": [
      "5\n",
      "2 3 6 6 5\n",
      "5\n"
     ]
    }
   ],
   "source": [
    "n = int(input())\n",
    "arr = map(int, input().split())\n",
    "arr = list(arr)\n",
    "x = max(arr)\n",
    "y = -9999999\n",
    "for i in range(0,n):\n",
    "    if arr[i]<x and arr[i] > y:\n",
    "        y = arr[i]\n",
    "    \n",
    "print(y)"
   ]
  },
  {
   "cell_type": "markdown",
   "id": "2de45072",
   "metadata": {},
   "source": [
    "### Q.3 `Nested Lists`"
   ]
  },
  {
   "cell_type": "code",
   "execution_count": 7,
   "id": "19c4e79f",
   "metadata": {},
   "outputs": [
    {
     "name": "stdout",
     "output_type": "stream",
     "text": [
      "5\n",
      "Harry\n",
      "37.21\n",
      "Berry\n",
      "37.21\n",
      "Tina\n",
      "37.2\n",
      "Akriti\n",
      "41\n",
      "Harsh\n",
      "39\n",
      "Berry\n",
      "Harry\n"
     ]
    }
   ],
   "source": [
    "Result =[]\n",
    "scorelist = []\n",
    "    \n",
    "for _ in range(int(input())):\n",
    "    name = input()\n",
    "    score = float(input())\n",
    "    Result+=[[name,score]]\n",
    "    scorelist+=[score]\n",
    "b=sorted(list(set(scorelist)))[1] \n",
    "for a,c in sorted(Result):\n",
    "    if c==b:\n",
    "        print(a)"
   ]
  },
  {
   "cell_type": "markdown",
   "id": "7ad2723c",
   "metadata": {},
   "source": [
    "### Q.4 `Finding the percentage`"
   ]
  },
  {
   "cell_type": "code",
   "execution_count": 3,
   "id": "50cf071e",
   "metadata": {},
   "outputs": [
    {
     "name": "stdout",
     "output_type": "stream",
     "text": [
      "3\n",
      "Krishna 67 68 69\n",
      "Arjun 70 98 63\n",
      "Malika 52 56 60\n",
      "Malika\n",
      "print\n",
      "print\n"
     ]
    },
    {
     "ename": "ZeroDivisionError",
     "evalue": "division by zero",
     "output_type": "error",
     "traceback": [
      "\u001b[1;31m---------------------------------------------------------------------------\u001b[0m",
      "\u001b[1;31mZeroDivisionError\u001b[0m                         Traceback (most recent call last)",
      "Input \u001b[1;32mIn [3]\u001b[0m, in \u001b[0;36m<cell line: 9>\u001b[1;34m()\u001b[0m\n\u001b[0;32m      7\u001b[0m     query_name \u001b[38;5;241m=\u001b[39m \u001b[38;5;28minput\u001b[39m()\n\u001b[0;32m      8\u001b[0m output \u001b[38;5;241m=\u001b[39m \u001b[38;5;28mlist\u001b[39m(student_marks[query_name])    \n\u001b[1;32m----> 9\u001b[0m per \u001b[38;5;241m=\u001b[39m \u001b[38;5;28;43msum\u001b[39;49m\u001b[43m(\u001b[49m\u001b[43moutput\u001b[49m\u001b[43m)\u001b[49m\u001b[38;5;241;43m/\u001b[39;49m\u001b[38;5;28;43mlen\u001b[39;49m\u001b[43m(\u001b[49m\u001b[43moutput\u001b[49m\u001b[43m)\u001b[49m;\n\u001b[0;32m     10\u001b[0m \u001b[38;5;28mprint\u001b[39m(\u001b[38;5;124m\"\u001b[39m\u001b[38;5;132;01m%.2f\u001b[39;00m\u001b[38;5;124m\"\u001b[39m \u001b[38;5;241m%\u001b[39m per)\n",
      "\u001b[1;31mZeroDivisionError\u001b[0m: division by zero"
     ]
    }
   ],
   "source": [
    "n = int(input())\n",
    "student_marks = {}\n",
    "for _ in range(n):\n",
    "    name, *line = input().split()\n",
    "    scores = list(map(float, line))\n",
    "    student_marks[name] = scores\n",
    "    query_name = input()\n",
    "output = list(student_marks[query_name])    \n",
    "per = sum(output)/len(output);\n",
    "print(\"%.2f\" % per)"
   ]
  },
  {
   "cell_type": "markdown",
   "id": "5ada05bb",
   "metadata": {},
   "source": [
    "### Q.5 `Lists`"
   ]
  },
  {
   "cell_type": "code",
   "execution_count": 2,
   "id": "45a2a3ae",
   "metadata": {},
   "outputs": [
    {
     "name": "stdout",
     "output_type": "stream",
     "text": [
      "12\n",
      "insert 0 5\n",
      "insert 1 10\n",
      "insert 0 6\n",
      "print\n",
      "remove 6\n",
      "append 9\n",
      "append 1\n",
      "sort\n",
      "print\n",
      "pop\n",
      "reverse\n",
      "print\n",
      "[6, 5, 10]\n",
      "[1, 5, 9, 10]\n",
      "[9, 5, 1]\n"
     ]
    }
   ],
   "source": [
    "N = int(input())\n",
    "empty = []\n",
    "conv = []\n",
    "\n",
    "for i in range(N):\n",
    "    x = input().split()\n",
    "    empty.append(x)\n",
    "\n",
    "for i in range(len(empty)):\n",
    "    if empty[i][0] == 'insert':\n",
    "        x = int(empty[i][1])\n",
    "        y = int(empty[i][2])\n",
    "        conv.insert(x,y)\n",
    "    elif empty[i][0] == 'print':\n",
    "        print(conv)\n",
    "    elif empty[i][0] == 'remove':\n",
    "        conv.remove(int(empty[i][1]))\n",
    "    elif empty[i][0] == 'append':\n",
    "        conv.append(int(empty[i][1]))\n",
    "    elif empty[i][0] == 'sort':\n",
    "        conv.sort()\n",
    "    elif empty[i][0] == 'pop':\n",
    "        conv.pop()\n",
    "    elif empty[i][0] == 'reverse':\n",
    "        conv.reverse()"
   ]
  },
  {
   "cell_type": "markdown",
   "id": "d1f736da",
   "metadata": {},
   "source": [
    "### Q.6 `Introduction to Sets`"
   ]
  },
  {
   "cell_type": "code",
   "execution_count": 4,
   "id": "c5d04a36",
   "metadata": {},
   "outputs": [],
   "source": [
    "def average(array):\n",
    "    return sum(set(array))/len(set(array))"
   ]
  },
  {
   "cell_type": "markdown",
   "id": "c52db80a",
   "metadata": {},
   "source": [
    "### Q.7 `No Idea!`"
   ]
  },
  {
   "cell_type": "code",
   "execution_count": 5,
   "id": "2b37312c",
   "metadata": {},
   "outputs": [
    {
     "name": "stdout",
     "output_type": "stream",
     "text": [
      "3 2\n",
      "1 5 3\n",
      "3 1\n",
      "5 7\n",
      "1\n"
     ]
    }
   ],
   "source": [
    "n, m = input().split()\n",
    "\n",
    "sc_ar = input().split()\n",
    "\n",
    "A = set(input().split())\n",
    "B = set(input().split())\n",
    "print(sum([(i in A) - (i in B) for i in sc_ar]))"
   ]
  },
  {
   "cell_type": "markdown",
   "id": "24ecb36c",
   "metadata": {},
   "source": [
    "###  Q.8 `Set .add()`"
   ]
  },
  {
   "cell_type": "code",
   "execution_count": 6,
   "id": "d1ea6505",
   "metadata": {},
   "outputs": [
    {
     "name": "stdout",
     "output_type": "stream",
     "text": [
      "7\n",
      "UK\n",
      "China\n",
      "USA\n",
      "France\n",
      "New Zealand\n",
      "UK\n",
      "France\n",
      "5\n"
     ]
    }
   ],
   "source": [
    "a = set()\n",
    "[a.add(input()) for _ in range(int(input()))]\n",
    "print(len(a))"
   ]
  },
  {
   "cell_type": "markdown",
   "id": "a9e09a71",
   "metadata": {},
   "source": [
    "### Q.9 `Symmetric Difference`"
   ]
  },
  {
   "cell_type": "code",
   "execution_count": 8,
   "id": "a842680c",
   "metadata": {},
   "outputs": [
    {
     "name": "stdout",
     "output_type": "stream",
     "text": [
      "4\n",
      "2 4 5 9\n",
      "4\n",
      "2 4 11 12\n",
      "5\n",
      "9\n",
      "11\n",
      "12\n"
     ]
    }
   ],
   "source": [
    "a,b = [set(input().split()) for _ in range(4)][1::2]\n",
    "print('\\n'.join(sorted(a^b, key=int)))"
   ]
  },
  {
   "cell_type": "markdown",
   "id": "c55baeb4",
   "metadata": {},
   "source": [
    "### Q.10 `Set .discard(), .remove() & .pop()`"
   ]
  },
  {
   "cell_type": "code",
   "execution_count": 10,
   "id": "2497cd95",
   "metadata": {},
   "outputs": [
    {
     "name": "stdout",
     "output_type": "stream",
     "text": [
      "9\n",
      "1 2 3 4 5 6 7 8 9\n",
      "10\n",
      "pop\n",
      "remove 9\n",
      "discard 9\n",
      "discard 8\n",
      "remove 7\n",
      "pop\n",
      "discard 6\n",
      "remove 5\n",
      "pop \n",
      "discard 5\n",
      "4\n"
     ]
    }
   ],
   "source": [
    "n = int(input())\n",
    "s = set(map(int, input().split()))\n",
    "operations = int(input())\n",
    "\n",
    "for x in range(operations):\n",
    "    oper = input().split()\n",
    "    if oper[0] == \"remove\":\n",
    "        s.remove(int(oper[1]))\n",
    "    elif oper[0] == \"discard\":\n",
    "        s.discard(int(oper[1]))\n",
    "    else:\n",
    "        s.pop()\n",
    "    \n",
    "print(sum(s))"
   ]
  },
  {
   "cell_type": "markdown",
   "id": "15823476",
   "metadata": {},
   "source": [
    "### Q.11 `Set .union() Operation`"
   ]
  },
  {
   "cell_type": "code",
   "execution_count": 11,
   "id": "38926404",
   "metadata": {},
   "outputs": [
    {
     "name": "stdout",
     "output_type": "stream",
     "text": [
      "9\n",
      "1 2 3 4 5 6 7 8 9\n",
      "9\n",
      "10 1 2 3 11 21 55 6 8\n",
      "13\n"
     ]
    }
   ],
   "source": [
    "n = int(input())\n",
    "l = list(input().split())\n",
    "m = int(input())\n",
    "k = list(input().split())\n",
    "\n",
    "s1 = set(l)\n",
    "s2 = set(k)\n",
    "\n",
    "print(len(s1.union(s2)))"
   ]
  },
  {
   "cell_type": "markdown",
   "id": "8822e7ab",
   "metadata": {},
   "source": [
    "### Q.12 `Set .intersection() Operation`"
   ]
  },
  {
   "cell_type": "code",
   "execution_count": 1,
   "id": "6a409093",
   "metadata": {},
   "outputs": [
    {
     "name": "stdout",
     "output_type": "stream",
     "text": [
      "9\n",
      "1 2 3 4 5 6 7 8 99\n",
      "9\n",
      "10 1 2 3 11 21 55 6 8\n",
      "5\n"
     ]
    }
   ],
   "source": [
    "num1, st1, num2, st2 = (set(input().split()) for i in range(4))\n",
    "print(len(st1.intersection(st2)))"
   ]
  },
  {
   "cell_type": "markdown",
   "id": "cd778458",
   "metadata": {},
   "source": [
    "### Q.13 `Set .difference() Operation`"
   ]
  },
  {
   "cell_type": "code",
   "execution_count": 2,
   "id": "155bbd21",
   "metadata": {},
   "outputs": [
    {
     "name": "stdout",
     "output_type": "stream",
     "text": [
      "9\n",
      "1 2 3 4 5 6 7 8 9\n",
      "9\n",
      "10 1 2 3 11 21 55 6 8\n",
      "4\n"
     ]
    }
   ],
   "source": [
    "n1 = int(input())\n",
    "set_1 = set(map(int,input().split()))\n",
    "n2 = int(input())\n",
    "set_2 = set(map(int,input().split()))\n",
    "print(len(set_1-set_2))"
   ]
  },
  {
   "cell_type": "markdown",
   "id": "9b4e28fa",
   "metadata": {},
   "source": [
    "### Q.14 `Set .symmetric_difference() Operation`"
   ]
  },
  {
   "cell_type": "code",
   "execution_count": 3,
   "id": "9f979822",
   "metadata": {},
   "outputs": [
    {
     "name": "stdout",
     "output_type": "stream",
     "text": [
      "9\n",
      "1 2 3 4 5 6 7 8 9\n",
      "9\n",
      "10 1 2 3 11 21 55 6 8\n",
      "8\n"
     ]
    }
   ],
   "source": [
    "_, a = input(), set(input().split())\n",
    "_, b = input(), set(input().split())\n",
    "print(len(a.symmetric_difference(b)))"
   ]
  },
  {
   "cell_type": "markdown",
   "id": "c91710df",
   "metadata": {},
   "source": [
    "### Q.15 `Set Mutations`"
   ]
  },
  {
   "cell_type": "code",
   "execution_count": 4,
   "id": "cccb91c8",
   "metadata": {},
   "outputs": [
    {
     "name": "stdout",
     "output_type": "stream",
     "text": [
      "16\n",
      " 1 2 3 4 5 6 7 8 9 10 11 12 13 14 24 52\n",
      "4\n",
      "intersection_update 10\n",
      "2 3 5 6 8 9 1 4 7 11\n",
      "update 2\n",
      "55 66\n",
      "symmetric_difference_update 5\n",
      "22 7 35 62 58\n",
      "difference_update 7\n",
      "11 22 35 55 58 62 66\n",
      "38\n"
     ]
    }
   ],
   "source": [
    "if __name__ == '__main__':\n",
    "    (_, A) = (int(input()),set(map(int, input().split())))\n",
    "    B = int(input())\n",
    "    for _ in range(B):\n",
    "        (command, newSet) = (input().split()[0],set(map(int, input().split())))\n",
    "        getattr(A, command)(newSet)\n",
    "\n",
    "    print (sum(A))"
   ]
  },
  {
   "cell_type": "markdown",
   "id": "16cb2ad8",
   "metadata": {},
   "source": [
    " ### Q.16 `The Captain's Room`"
   ]
  },
  {
   "cell_type": "code",
   "execution_count": 5,
   "id": "9b56d087",
   "metadata": {},
   "outputs": [
    {
     "name": "stdout",
     "output_type": "stream",
     "text": [
      "5\n",
      "1 2 3 6 5 4 4 2 5 3 6 1 6 5 3 2 4 1 2 5 1 4 3 6 8 4 3 1 5 6 2\n",
      "8\n"
     ]
    }
   ],
   "source": [
    "k,arr = int(input()),list(map(int, input().split()))\n",
    "myset = set(arr)\n",
    "print(((sum(myset)*k)-(sum(arr)))//(k-1))"
   ]
  },
  {
   "cell_type": "markdown",
   "id": "cd29cc58",
   "metadata": {},
   "source": [
    "### Q.17 `Check Subset`"
   ]
  },
  {
   "cell_type": "code",
   "execution_count": 6,
   "id": "1dcb920c",
   "metadata": {},
   "outputs": [
    {
     "name": "stdout",
     "output_type": "stream",
     "text": [
      "3\n",
      "5\n",
      "1 2 3 5 6\n",
      "9\n",
      "9 8 5 6 3 2 1 4 7\n",
      "True\n",
      "1\n",
      "2\n",
      "5\n",
      "3 6 5 4 1\n",
      "False\n",
      "7\n",
      "1 2 3 5 6 8 9\n",
      "3\n",
      "9 8 2\n",
      "False\n"
     ]
    }
   ],
   "source": [
    "for _ in range(int(input())):\n",
    "    x, a, z, b = input(), set(input().split()), input(), set(input().split())\n",
    "    print(a.issubset(b))"
   ]
  },
  {
   "cell_type": "markdown",
   "id": "d7eb4e14",
   "metadata": {},
   "source": [
    "### Q.18 `Check Strict Superset`"
   ]
  },
  {
   "cell_type": "code",
   "execution_count": 1,
   "id": "d6de4ed5",
   "metadata": {},
   "outputs": [
    {
     "name": "stdout",
     "output_type": "stream",
     "text": [
      "1 2 3 4 5 6 7 8 9 10 11 12 23 45 84 78\n",
      "2\n",
      "1 2 3 4 52\n",
      "100 11 12\n",
      "False\n"
     ]
    }
   ],
   "source": [
    "def isstrictsuperset(a,b):\n",
    "    \n",
    "    return b.issubset(a) and not(a.issubset(b))\n",
    "\n",
    "a = set(int(x) for x in input().split(' '))\n",
    "n = int(input())\n",
    "res = True\n",
    "\n",
    "for _ in range(n):\n",
    "    b = set(int(x) for x in input().split(' '))\n",
    "    res &= isstrictsuperset(a,b)\n",
    "    \n",
    "print(res)"
   ]
  }
 ],
 "metadata": {
  "kernelspec": {
   "display_name": "Python 3 (ipykernel)",
   "language": "python",
   "name": "python3"
  },
  "language_info": {
   "codemirror_mode": {
    "name": "ipython",
    "version": 3
   },
   "file_extension": ".py",
   "mimetype": "text/x-python",
   "name": "python",
   "nbconvert_exporter": "python",
   "pygments_lexer": "ipython3",
   "version": "3.9.12"
  }
 },
 "nbformat": 4,
 "nbformat_minor": 5
}

{
 "cells": [
  {
   "cell_type": "markdown",
   "id": "1247d03f",
   "metadata": {},
   "source": [
    "### Q.1  `sWAP cASE`"
   ]
  },
  {
   "cell_type": "code",
   "execution_count": 3,
   "id": "c3596447",
   "metadata": {},
   "outputs": [
    {
     "name": "stdout",
     "output_type": "stream",
     "text": [
      "HackerRank.com presents \"Pythonist 2\".\n",
      "hACKERrANK.COM PRESENTS \"pYTHONIST 2\".\n"
     ]
    }
   ],
   "source": [
    "def swap_case(s):\n",
    "    result = \"\"\n",
    "    for i in s:\n",
    "        if i.islower():\n",
    "             result += i.upper()\n",
    "        else:\n",
    "            result += i.lower()\n",
    "    return result\n",
    "            \n",
    "\n",
    "if __name__ == '__main__':\n",
    "    s = input()\n",
    "    result = swap_case(s)\n",
    "    print(result)"
   ]
  },
  {
   "cell_type": "markdown",
   "id": "d54119e4",
   "metadata": {},
   "source": [
    "### Q.2  `String Split and Join`"
   ]
  },
  {
   "cell_type": "code",
   "execution_count": 5,
   "id": "e4914810",
   "metadata": {},
   "outputs": [],
   "source": [
    "def split_and_join(line):\n",
    "    line = line.split(\" \")\n",
    "    line_ = \"-\".join(line)\n",
    "    return line_"
   ]
  },
  {
   "cell_type": "markdown",
   "id": "0ca616e0",
   "metadata": {},
   "source": [
    "### Q.3  `What's Your Name?`"
   ]
  },
  {
   "cell_type": "code",
   "execution_count": 7,
   "id": "5b502fda",
   "metadata": {},
   "outputs": [],
   "source": [
    "def print_full_name(first, last):\n",
    "    print(f\"Hello {first} {last}! You just delved into python.\")"
   ]
  },
  {
   "cell_type": "markdown",
   "id": "3bbe7424",
   "metadata": {},
   "source": [
    "### Q.4 `Mutations`"
   ]
  },
  {
   "cell_type": "code",
   "execution_count": 9,
   "id": "58dc2295",
   "metadata": {},
   "outputs": [],
   "source": [
    "def mutate_string(string, position, character):\n",
    "    string = string[:position] + character + string[position+1:]\n",
    "    return string"
   ]
  },
  {
   "cell_type": "markdown",
   "id": "9088a3bd",
   "metadata": {},
   "source": [
    "### Q.5 `Find a string`"
   ]
  },
  {
   "cell_type": "code",
   "execution_count": 10,
   "id": "c231ed0b",
   "metadata": {},
   "outputs": [],
   "source": [
    "def count_substring(string, sub_string):\n",
    "    matches = 0\n",
    "    for i, char in enumerate(string):\n",
    "        if char == sub_string[0]:\n",
    "            if sub_string in string[i:i + len(sub_string):]:\n",
    "                matches += 1\n",
    "    return matches"
   ]
  },
  {
   "cell_type": "markdown",
   "id": "9ef17aaf",
   "metadata": {},
   "source": [
    "### Q.6 `String Validators`"
   ]
  },
  {
   "cell_type": "code",
   "execution_count": 11,
   "id": "65b2ecf1",
   "metadata": {},
   "outputs": [
    {
     "name": "stdout",
     "output_type": "stream",
     "text": [
      "qA2\n",
      "True\n",
      "True\n",
      "True\n",
      "True\n",
      "True\n"
     ]
    }
   ],
   "source": [
    "s = input()\n",
    "result = [False, False, False, False, False]\n",
    "for i in s:\n",
    "    if i.isalnum():\n",
    "        result[0] = True\n",
    "    if i.isalpha():\n",
    "        result[1] = True\n",
    "    if i.isdigit():\n",
    "        result[2] = True\n",
    "    if i.islower():\n",
    "        result[3] = True\n",
    "    if i.isupper():\n",
    "        result[4] = True\n",
    "for i in result:\n",
    "    print(i)"
   ]
  },
  {
   "cell_type": "markdown",
   "id": "61f2b2dc",
   "metadata": {},
   "source": [
    "### Q.7 `Text Wrap`"
   ]
  },
  {
   "cell_type": "code",
   "execution_count": 15,
   "id": "f1401965",
   "metadata": {},
   "outputs": [
    {
     "name": "stdout",
     "output_type": "stream",
     "text": [
      "ABCDEFGHIJKLIMNOQRSTUVWXYZ \n",
      "4\n",
      "ABCD\n",
      "EFGH\n",
      "IJKL\n",
      "IMNO\n",
      "QRST\n",
      "UVWX\n",
      "YZ\n"
     ]
    }
   ],
   "source": [
    "import textwrap\n",
    "\n",
    "def wrap(string, max_width):\n",
    "    return textwrap.fill(string, max_width)\n",
    "\n",
    "if __name__ == '__main__':\n",
    "    string, max_width = input(), int(input())\n",
    "    result = wrap(string, max_width)\n",
    "    print(result)"
   ]
  },
  {
   "cell_type": "markdown",
   "id": "834cb4c0",
   "metadata": {},
   "source": [
    "### Q.8 `Designer Door Mat`"
   ]
  },
  {
   "cell_type": "code",
   "execution_count": 16,
   "id": "1206f41c",
   "metadata": {},
   "outputs": [
    {
     "name": "stdout",
     "output_type": "stream",
     "text": [
      "9 27\n",
      "------------.|.------------\n",
      "---------.|..|..|.---------\n",
      "------.|..|..|..|..|.------\n",
      "---.|..|..|..|..|..|..|.---\n",
      "----------WELCOME----------\n",
      "---.|..|..|..|..|..|..|.---\n",
      "------.|..|..|..|..|.------\n",
      "---------.|..|..|.---------\n",
      "------------.|.------------\n"
     ]
    }
   ],
   "source": [
    "n,m = [int(x) for x in input().split()]\n",
    "p = '.|.'\n",
    "\n",
    "j=0\n",
    "for i in range(0,n):\n",
    "    # print(i)\n",
    "    if i<n//2:\n",
    "        print(((j*2+1)*p).center(m, '-'))\n",
    "        j=j+1\n",
    "    elif i==n//2:\n",
    "        print('WELCOME'.center(m, '-'))\n",
    "    else:\n",
    "        j=j-1\n",
    "        print(((j*2+1)*p).center(m, '-'))"
   ]
  },
  {
   "cell_type": "markdown",
   "id": "c280b5b0",
   "metadata": {},
   "source": [
    "### Q.9 `String Formatting`"
   ]
  },
  {
   "cell_type": "code",
   "execution_count": 17,
   "id": "df1768e6",
   "metadata": {},
   "outputs": [],
   "source": [
    "def print_formatted(number):\n",
    "    \n",
    "    max_length = len(bin(number))-2\n",
    "    for i in range(1,number+1):\n",
    "        print(' '.join([ s[2:].rjust(max_length).upper() for s in ['xx'+str(i),oct(i),hex(i),bin(i)]]))"
   ]
  },
  {
   "cell_type": "markdown",
   "id": "75e6ff08",
   "metadata": {},
   "source": [
    "### Q.10 `Alphabet Rangoli`"
   ]
  },
  {
   "cell_type": "code",
   "execution_count": 18,
   "id": "270c2891",
   "metadata": {},
   "outputs": [
    {
     "name": "stdout",
     "output_type": "stream",
     "text": [
      "----------------i----------------\n",
      "--------------i-h-i--------------\n",
      "------------i-h-g-h-i------------\n",
      "----------i-h-g-f-g-h-i----------\n",
      "--------i-h-g-f-e-f-g-h-i--------\n",
      "------i-h-g-f-e-d-e-f-g-h-i------\n",
      "----i-h-g-f-e-d-c-d-e-f-g-h-i----\n",
      "--i-h-g-f-e-d-c-b-c-d-e-f-g-h-i--\n",
      "i-h-g-f-e-d-c-b-a-b-c-d-e-f-g-h-i\n",
      "--i-h-g-f-e-d-c-b-c-d-e-f-g-h-i--\n",
      "----i-h-g-f-e-d-c-d-e-f-g-h-i----\n",
      "------i-h-g-f-e-d-e-f-g-h-i------\n",
      "--------i-h-g-f-e-f-g-h-i--------\n",
      "----------i-h-g-f-g-h-i----------\n",
      "------------i-h-g-h-i------------\n",
      "--------------i-h-i--------------\n",
      "----------------i----------------\n"
     ]
    }
   ],
   "source": [
    "    import string\n",
    "    design = string.ascii_lowercase\n",
    "    L = []\n",
    "    for i in range(n):\n",
    "        s = \"-\".join(design[i:n])\n",
    "        L.append((s[::-1]+s[1:]).center(4*n-3, \"-\"))\n",
    "        \n",
    "    print('\\n'.join(L[:0:-1]+L))"
   ]
  },
  {
   "cell_type": "markdown",
   "id": "ab94b2d5",
   "metadata": {},
   "source": [
    "### Q.11 `Capitalize!`"
   ]
  },
  {
   "cell_type": "code",
   "execution_count": 19,
   "id": "8d60a116",
   "metadata": {},
   "outputs": [],
   "source": [
    "def solve(s):\n",
    "    found = True\n",
    "    st = ''\n",
    "    for i in s:\n",
    "        if found == True:\n",
    "            st += i.upper()\n",
    "            found = False\n",
    "        else:\n",
    "            st += i\n",
    "        if i == ' ':\n",
    "            found = True\n",
    "    return st"
   ]
  },
  {
   "cell_type": "markdown",
   "id": "e2412f7e",
   "metadata": {},
   "source": [
    "### Q.12  `The Minion Game`"
   ]
  },
  {
   "cell_type": "code",
   "execution_count": 20,
   "id": "a7f67e99",
   "metadata": {},
   "outputs": [],
   "source": [
    "def minion_game(string):\n",
    "    vowels = 'AEIOU'\n",
    "    Stuart_score, Kevin_score = 0, 0\n",
    "    length = len(string)\n",
    "    for start_idx in range(length):\n",
    "        score = length - start_idx\n",
    "        if string[start_idx] in vowels:\n",
    "            Kevin_score += score\n",
    "        else:\n",
    "            Stuart_score += score\n",
    "    if Stuart_score == Kevin_score:\n",
    "        print('Draw')\n",
    "    if Stuart_score > Kevin_score:\n",
    "        print('Stuart {}'.format(Stuart_score))\n",
    "    if Stuart_score < Kevin_score:\n",
    "        print('Kevin {}'.format(Kevin_score))"
   ]
  },
  {
   "cell_type": "markdown",
   "id": "2f48d0fd",
   "metadata": {},
   "source": [
    "### Q.13 `Merge the Tools!`"
   ]
  },
  {
   "cell_type": "code",
   "execution_count": 21,
   "id": "afee21fa",
   "metadata": {},
   "outputs": [],
   "source": [
    "def merge_the_tools(string, k):\n",
    "    for part in zip(*[iter(string)] * k):\n",
    "        d = dict()\n",
    "        print(''.join([ d.setdefault(c, c) for c in part if c not in d ]))"
   ]
  },
  {
   "cell_type": "code",
   "execution_count": null,
   "id": "56f9c21d",
   "metadata": {},
   "outputs": [],
   "source": []
  }
 ],
 "metadata": {
  "kernelspec": {
   "display_name": "Python 3 (ipykernel)",
   "language": "python",
   "name": "python3"
  },
  "language_info": {
   "codemirror_mode": {
    "name": "ipython",
    "version": 3
   },
   "file_extension": ".py",
   "mimetype": "text/x-python",
   "name": "python",
   "nbconvert_exporter": "python",
   "pygments_lexer": "ipython3",
   "version": "3.9.12"
  }
 },
 "nbformat": 4,
 "nbformat_minor": 5
}
